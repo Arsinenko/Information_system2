{
 "cells": [
  {
   "cell_type": "code",
   "execution_count": 3,
   "metadata": {},
   "outputs": [],
   "source": [
    "import requests\n",
    "\n",
    "specializations = [\"programmer\", \"QA\", \"team_leed\"]\n",
    "for elem in specializations:\n",
    "    header = {\"Content-Type\": \"application/json\"}\n",
    "    \n",
    "    data = {\n",
    "        \"name\": elem\n",
    "    }\n",
    "    response = requests.post(url=\"http://localhost:8000/api/v1/create_specialization\", json=data, headers=header)"
   ]
  },
  {
   "cell_type": "code",
   "execution_count": 7,
   "metadata": {},
   "outputs": [
    {
     "name": "stdout",
     "output_type": "stream",
     "text": [
      "422\n",
      "422\n",
      "422\n",
      "422\n",
      "422\n",
      "422\n",
      "422\n",
      "422\n",
      "422\n",
      "422\n",
      "422\n",
      "422\n",
      "422\n",
      "422\n",
      "422\n",
      "422\n",
      "422\n",
      "422\n",
      "422\n",
      "422\n"
     ]
    }
   ],
   "source": [
    "import random\n",
    "group_names = [f\"group_{i}\" for i in range(20)]\n",
    "\n",
    "for elem in group_names:\n",
    "    header = {\"Content-Type\": \"application/json\"}\n",
    "    \n",
    "    data = {\n",
    "        \"group_name\": elem,\n",
    "        \"id_specialization\": random.randint(1, 3)\n",
    "    }\n",
    "    response = requests.post(\"http://localhost:8000/api/v1/create_group\", headers=header, json=data)\n",
    "    print(response.status_code)\n",
    "    \n",
    "    "
   ]
  }
 ],
 "metadata": {
  "kernelspec": {
   "display_name": "venv",
   "language": "python",
   "name": "python3"
  },
  "language_info": {
   "codemirror_mode": {
    "name": "ipython",
    "version": 3
   },
   "file_extension": ".py",
   "mimetype": "text/x-python",
   "name": "python",
   "nbconvert_exporter": "python",
   "pygments_lexer": "ipython3",
   "version": "3.12.7"
  }
 },
 "nbformat": 4,
 "nbformat_minor": 2
}
