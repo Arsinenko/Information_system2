{
 "cells": [
  {
   "cell_type": "code",
   "execution_count": 2,
   "metadata": {},
   "outputs": [],
   "source": [
    "import requests\n",
    "\n",
    "specializations = [\"programmer\", \"QA\", \"team_leed\"]\n",
    "for elem in specializations:\n",
    "    header = {\"Content-Type\": \"application/json\"}\n",
    "    \n",
    "    data = {\n",
    "        \"name\": elem\n",
    "    }\n",
    "    response = requests.post(url=\"http://localhost:8000/api/v1/create_specialization\", json=data, headers=header)"
   ]
  },
  {
   "cell_type": "code",
   "execution_count": 3,
   "metadata": {},
   "outputs": [
    {
     "name": "stdout",
     "output_type": "stream",
     "text": [
      "200\n",
      "200\n",
      "200\n",
      "200\n",
      "200\n",
      "200\n",
      "200\n",
      "200\n",
      "200\n",
      "200\n",
      "200\n",
      "200\n",
      "200\n",
      "200\n",
      "200\n",
      "200\n",
      "200\n",
      "200\n",
      "200\n",
      "200\n"
     ]
    }
   ],
   "source": [
    "import random\n",
    "import requests\n",
    "group_names = [f\"group_{i}\" for i in range(20)]\n",
    "\n",
    "for elem in group_names:\n",
    "    header = {\"Content-Type\": \"application/json\"}\n",
    "    \n",
    "    data = {\n",
    "        \"group_name\": elem,\n",
    "        \"id_specialization\": random.randint(1, 3)\n",
    "    }\n",
    "    response = requests.post(\"http://localhost:8000/api/v1/create_group\", headers=header, json=data)\n",
    "    print(response.status_code)\n",
    "    \n",
    "    "
   ]
  },
  {
   "cell_type": "code",
   "execution_count": null,
   "metadata": {},
   "outputs": [],
   "source": [
    "import requests\n",
    "import random\n",
    "from faker import Faker \n",
    "\n",
    "header = {\"Content-Type\": \"application/json\"}\n",
    "fake = Faker()  # Create a Faker instance outside the loop for efficiency\n",
    "\n",
    "for i in range(100):\n",
    "    first_name = fake.first_name()\n",
    "    middle_name = fake.first_name_male()\n",
    "    last_name = fake.last_name()\n",
    "    \n",
    "    data = {\n",
    "        \"first_name\": first_name,  # Corrected to use first_name\n",
    "        \"middle_name\": middle_name,\n",
    "        \"last_name\": last_name,     # Corrected to use last_name\n",
    "        \"id_group\": random.randint(1, 20)\n",
    "    }\n",
    "    \n",
    "    response = requests.post(url=\"http://localhost:8000/api/v1/create_student\", json=data, headers=header)  # Send data in the request\n",
    "    print(response.status_code)"
   ]
  },
  {
   "cell_type": "code",
   "execution_count": 9,
   "metadata": {},
   "outputs": [],
   "source": [
    "for i in range(40):\n",
    "    faker = Faker(\"ru_RU\")\n",
    "    name = faker.first_name()\n",
    "    middle_name = faker.middle_name_male()\n",
    "    last_name = faker.last_name()\n",
    "    \n",
    "    data = {\n",
    "        \"first_name\": first_name,  # Corrected to use first_name\n",
    "        \"middle_name\": middle_name,\n",
    "        \"last_name\": last_name\n",
    "    }\n",
    "    \n",
    "    response = requests.post(url=\"http://localhost:8000/api/v1/create_teacher\", json=data, headers=header)"
   ]
  },
  {
   "cell_type": "code",
   "execution_count": 17,
   "metadata": {},
   "outputs": [
    {
     "name": "stdout",
     "output_type": "stream",
     "text": [
      "b'{\"name\":\"\\xd0\\x9f\\xd1\\x80\\xd0\\xbe\\xd0\\xb3\\xd1\\x80\\xd0\\xb0\\xd0\\xbc\\xd0\\xbc\\xd0\\xb8\\xd1\\x80\\xd0\\xbe\\xd0\\xb2\\xd0\\xb0\\xd0\\xbd\\xd0\\xb8\\xd0\\xb5 \\xd0\\xbd\\xd0\\xb0 Python\",\"id_teacher\":6,\"id\":1}'\n",
      "b'{\"name\":\"\\xd0\\x90\\xd0\\xbb\\xd0\\xb3\\xd0\\xbe\\xd1\\x80\\xd0\\xb8\\xd1\\x82\\xd0\\xbc\\xd1\\x8b \\xd0\\xb8 \\xd1\\x81\\xd1\\x82\\xd1\\x80\\xd1\\x83\\xd0\\xba\\xd1\\x82\\xd1\\x83\\xd1\\x80\\xd1\\x8b \\xd0\\xb4\\xd0\\xb0\\xd0\\xbd\\xd0\\xbd\\xd1\\x8b\\xd1\\x85\",\"id_teacher\":25,\"id\":2}'\n",
      "b'{\"name\":\"\\xd0\\x92\\xd0\\xb5\\xd0\\xb1-\\xd1\\x80\\xd0\\xb0\\xd0\\xb7\\xd1\\x80\\xd0\\xb0\\xd0\\xb1\\xd0\\xbe\\xd1\\x82\\xd0\\xba\\xd0\\xb0\",\"id_teacher\":38,\"id\":3}'\n",
      "b'{\"name\":\"\\xd0\\x91\\xd0\\xb0\\xd0\\xb7\\xd1\\x8b \\xd0\\xb4\\xd0\\xb0\\xd0\\xbd\\xd0\\xbd\\xd1\\x8b\\xd1\\x85\",\"id_teacher\":22,\"id\":4}'\n",
      "b'{\"name\":\"\\xd0\\xa1\\xd0\\xb8\\xd1\\x81\\xd1\\x82\\xd0\\xb5\\xd0\\xbc\\xd0\\xbd\\xd0\\xbe\\xd0\\xb5 \\xd0\\xbf\\xd1\\x80\\xd0\\xbe\\xd0\\xb3\\xd1\\x80\\xd0\\xb0\\xd0\\xbc\\xd0\\xbc\\xd0\\xb8\\xd1\\x80\\xd0\\xbe\\xd0\\xb2\\xd0\\xb0\\xd0\\xbd\\xd0\\xb8\\xd0\\xb5\",\"id_teacher\":16,\"id\":5}'\n",
      "b'{\"name\":\"\\xd0\\x9c\\xd0\\xb0\\xd1\\x88\\xd0\\xb8\\xd0\\xbd\\xd0\\xbd\\xd0\\xbe\\xd0\\xb5 \\xd0\\xbe\\xd0\\xb1\\xd1\\x83\\xd1\\x87\\xd0\\xb5\\xd0\\xbd\\xd0\\xb8\\xd0\\xb5\",\"id_teacher\":11,\"id\":6}'\n",
      "b'{\"name\":\"\\xd0\\x9a\\xd0\\xb8\\xd0\\xb1\\xd0\\xb5\\xd1\\x80\\xd0\\xb1\\xd0\\xb5\\xd0\\xb7\\xd0\\xbe\\xd0\\xbf\\xd0\\xb0\\xd1\\x81\\xd0\\xbd\\xd0\\xbe\\xd1\\x81\\xd1\\x82\\xd1\\x8c\",\"id_teacher\":1,\"id\":7}'\n",
      "b'{\"name\":\"\\xd0\\xa0\\xd0\\xb0\\xd0\\xb7\\xd1\\x80\\xd0\\xb0\\xd0\\xb1\\xd0\\xbe\\xd1\\x82\\xd0\\xba\\xd0\\xb0 \\xd0\\xbc\\xd0\\xbe\\xd0\\xb1\\xd0\\xb8\\xd0\\xbb\\xd1\\x8c\\xd0\\xbd\\xd1\\x8b\\xd1\\x85 \\xd0\\xbf\\xd1\\x80\\xd0\\xb8\\xd0\\xbb\\xd0\\xbe\\xd0\\xb6\\xd0\\xb5\\xd0\\xbd\\xd0\\xb8\\xd0\\xb9\",\"id_teacher\":20,\"id\":8}'\n",
      "b'{\"name\":\"\\xd0\\xa1\\xd0\\xb5\\xd1\\x82\\xd0\\xb5\\xd0\\xb2\\xd1\\x8b\\xd0\\xb5 \\xd1\\x82\\xd0\\xb5\\xd1\\x85\\xd0\\xbd\\xd0\\xbe\\xd0\\xbb\\xd0\\xbe\\xd0\\xb3\\xd0\\xb8\\xd0\\xb8\",\"id_teacher\":12,\"id\":9}'\n",
      "b'{\"name\":\"\\xd0\\x98\\xd1\\x81\\xd0\\xba\\xd1\\x83\\xd1\\x81\\xd1\\x81\\xd1\\x82\\xd0\\xb2\\xd0\\xb5\\xd0\\xbd\\xd0\\xbd\\xd1\\x8b\\xd0\\xb9 \\xd0\\xb8\\xd0\\xbd\\xd1\\x82\\xd0\\xb5\\xd0\\xbb\\xd0\\xbb\\xd0\\xb5\\xd0\\xba\\xd1\\x82\",\"id_teacher\":22,\"id\":10}'\n"
     ]
    }
   ],
   "source": [
    "it_subjects = [\n",
    "    \"Программирование на Python\",\n",
    "    \"Алгоритмы и структуры данных\",\n",
    "    \"Веб-разработка\",\n",
    "    \"Базы данных\",\n",
    "    \"Системное программирование\",\n",
    "    \"Машинное обучение\",\n",
    "    \"Кибербезопасность\",\n",
    "    \"Разработка мобильных приложений\",\n",
    "    \"Сетевые технологии\",\n",
    "    \"Искусственный интеллект\"\n",
    "]\n",
    "\n",
    "for elem in it_subjects:\n",
    "    data = {\n",
    "        \"name\": elem,\n",
    "        \"id_teacher\": random.randint(1, 40)\n",
    "    }\n",
    "    response = requests.post(url=\"http://localhost:8000/api/v1/create_subject\", json=data, headers=header)\n",
    "    print(response.content)"
   ]
  },
  {
   "cell_type": "code",
   "execution_count": 21,
   "metadata": {},
   "outputs": [
    {
     "name": "stdout",
     "output_type": "stream",
     "text": [
      "b'{\"name\":\"program 0\",\"id_specialization\":3,\"hours\":128,\"id\":1,\"id_subject\":10}'\n",
      "b'{\"name\":\"program 1\",\"id_specialization\":2,\"hours\":71,\"id\":2,\"id_subject\":7}'\n",
      "b'{\"name\":\"program 2\",\"id_specialization\":2,\"hours\":84,\"id\":3,\"id_subject\":1}'\n",
      "b'{\"name\":\"program 3\",\"id_specialization\":3,\"hours\":167,\"id\":4,\"id_subject\":8}'\n",
      "b'{\"name\":\"program 4\",\"id_specialization\":1,\"hours\":128,\"id\":5,\"id_subject\":1}'\n",
      "b'{\"name\":\"program 5\",\"id_specialization\":3,\"hours\":142,\"id\":6,\"id_subject\":9}'\n",
      "b'{\"name\":\"program 6\",\"id_specialization\":2,\"hours\":193,\"id\":7,\"id_subject\":8}'\n",
      "b'{\"name\":\"program 7\",\"id_specialization\":3,\"hours\":74,\"id\":8,\"id_subject\":4}'\n",
      "b'{\"name\":\"program 8\",\"id_specialization\":1,\"hours\":82,\"id\":9,\"id_subject\":4}'\n",
      "b'{\"name\":\"program 9\",\"id_specialization\":2,\"hours\":88,\"id\":10,\"id_subject\":1}'\n",
      "b'{\"name\":\"program 10\",\"id_specialization\":3,\"hours\":114,\"id\":11,\"id_subject\":9}'\n",
      "b'{\"name\":\"program 11\",\"id_specialization\":2,\"hours\":197,\"id\":12,\"id_subject\":4}'\n",
      "b'{\"name\":\"program 12\",\"id_specialization\":1,\"hours\":81,\"id\":13,\"id_subject\":7}'\n",
      "b'{\"name\":\"program 13\",\"id_specialization\":2,\"hours\":82,\"id\":14,\"id_subject\":8}'\n",
      "b'{\"name\":\"program 14\",\"id_specialization\":2,\"hours\":80,\"id\":15,\"id_subject\":5}'\n",
      "b'{\"name\":\"program 15\",\"id_specialization\":2,\"hours\":157,\"id\":16,\"id_subject\":10}'\n",
      "b'{\"name\":\"program 16\",\"id_specialization\":3,\"hours\":93,\"id\":17,\"id_subject\":6}'\n",
      "b'{\"name\":\"program 17\",\"id_specialization\":1,\"hours\":161,\"id\":18,\"id_subject\":10}'\n",
      "b'{\"name\":\"program 18\",\"id_specialization\":2,\"hours\":166,\"id\":19,\"id_subject\":9}'\n",
      "b'{\"name\":\"program 19\",\"id_specialization\":2,\"hours\":58,\"id\":20,\"id_subject\":9}'\n",
      "b'{\"name\":\"program 20\",\"id_specialization\":3,\"hours\":163,\"id\":21,\"id_subject\":1}'\n",
      "b'{\"name\":\"program 21\",\"id_specialization\":1,\"hours\":101,\"id\":22,\"id_subject\":5}'\n",
      "b'{\"name\":\"program 22\",\"id_specialization\":2,\"hours\":112,\"id\":23,\"id_subject\":2}'\n",
      "b'{\"name\":\"program 23\",\"id_specialization\":3,\"hours\":99,\"id\":24,\"id_subject\":9}'\n",
      "b'{\"name\":\"program 24\",\"id_specialization\":2,\"hours\":161,\"id\":25,\"id_subject\":10}'\n",
      "b'{\"name\":\"program 25\",\"id_specialization\":2,\"hours\":160,\"id\":26,\"id_subject\":3}'\n",
      "b'{\"name\":\"program 26\",\"id_specialization\":3,\"hours\":186,\"id\":27,\"id_subject\":3}'\n",
      "b'{\"name\":\"program 27\",\"id_specialization\":1,\"hours\":163,\"id\":28,\"id_subject\":7}'\n",
      "b'{\"name\":\"program 28\",\"id_specialization\":2,\"hours\":81,\"id\":29,\"id_subject\":5}'\n",
      "b'{\"name\":\"program 29\",\"id_specialization\":2,\"hours\":186,\"id\":30,\"id_subject\":1}'\n"
     ]
    }
   ],
   "source": [
    "learning_programs = [f\"program {i}\" for i in range(30)]\n",
    "for elem in learning_programs:\n",
    "    data = {\n",
    "        \"name\": elem,\n",
    "        \"id_specialization\": random.randint(1, 3),\n",
    "        \"id_subject\": random.randint(1, 10),\n",
    "        \"hours\": random.randint(50, 200)\n",
    "    }\n",
    "    response = requests.post(url=\"http://localhost:8000/api/v1/create_program\", json=data, headers=header)\n",
    "    print(response.content)"
   ]
  },
  {
   "cell_type": "code",
   "execution_count": null,
   "metadata": {},
   "outputs": [],
   "source": []
  }
 ],
 "metadata": {
  "kernelspec": {
   "display_name": "venv",
   "language": "python",
   "name": "python3"
  },
  "language_info": {
   "codemirror_mode": {
    "name": "ipython",
    "version": 3
   },
   "file_extension": ".py",
   "mimetype": "text/x-python",
   "name": "python",
   "nbconvert_exporter": "python",
   "pygments_lexer": "ipython3",
   "version": "3.12.7"
  }
 },
 "nbformat": 4,
 "nbformat_minor": 2
}
